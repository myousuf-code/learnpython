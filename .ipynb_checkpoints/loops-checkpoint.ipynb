{
 "cells": [
  {
   "cell_type": "markdown",
   "metadata": {},
   "source": [
    "# loops"
   ]
  },
  {
   "cell_type": "code",
   "execution_count": 1,
   "metadata": {},
   "outputs": [
    {
     "name": "stdout",
     "output_type": "stream",
     "text": [
      "yousuf\n",
      "yousuf\n",
      "yousuf\n",
      "yousuf\n",
      "yousuf\n"
     ]
    }
   ],
   "source": [
    "print(\"yousuf\")\n",
    "print(\"yousuf\")\n",
    "print(\"yousuf\")\n",
    "print(\"yousuf\")\n",
    "print(\"yousuf\")       # you can write your name like this five times but it is not so fast"
   ]
  },
  {
   "cell_type": "code",
   "execution_count": 3,
   "metadata": {},
   "outputs": [
    {
     "name": "stdout",
     "output_type": "stream",
     "text": [
      "0 yousuf\n",
      "1 yousuf\n",
      "2 yousuf\n",
      "3 yousuf\n",
      "4 yousuf\n"
     ]
    }
   ],
   "source": [
    "for a in range(5) :          # 5 will not be included (0,1,2,3,4)\n",
    "    print(a,\"yousuf\")"
   ]
  },
  {
   "cell_type": "code",
   "execution_count": 4,
   "metadata": {},
   "outputs": [
    {
     "name": "stdout",
     "output_type": "stream",
     "text": [
      "0\n",
      "1\n",
      "2\n",
      "3\n",
      "4\n",
      "5\n",
      "6\n",
      "7\n",
      "8\n",
      "9\n"
     ]
    }
   ],
   "source": [
    "for number in range(10):\n",
    "    print(number)          # by default loop starts from 0"
   ]
  },
  {
   "cell_type": "code",
   "execution_count": 1,
   "metadata": {},
   "outputs": [
    {
     "name": "stdout",
     "output_type": "stream",
     "text": [
      "1\n",
      "2\n",
      "3\n",
      "4\n",
      "5\n",
      "6\n",
      "7\n",
      "8\n",
      "9\n"
     ]
    }
   ],
   "source": [
    "for number in range(1,10):\n",
    "    print(number) # we can also tell it to start from 1 or any number as well"
   ]
  },
  {
   "cell_type": "code",
   "execution_count": 2,
   "metadata": {},
   "outputs": [
    {
     "name": "stdout",
     "output_type": "stream",
     "text": [
      "1\n",
      "3\n",
      "5\n",
      "7\n",
      "9\n"
     ]
    }
   ],
   "source": [
    "for number in range(1,10,2):\n",
    "    print(number)      # we can  make it skip the number of steps we want"
   ]
  },
  {
   "cell_type": "code",
   "execution_count": 3,
   "metadata": {},
   "outputs": [
    {
     "name": "stdout",
     "output_type": "stream",
     "text": [
      "10\n",
      "8\n",
      "6\n",
      "4\n",
      "2\n"
     ]
    }
   ],
   "source": [
    "for number in range(10,1,-2):\n",
    "    print(number)     # we can  make it go in reverse order"
   ]
  },
  {
   "cell_type": "code",
   "execution_count": 5,
   "metadata": {},
   "outputs": [],
   "source": [
    "cities= [\"karachi\",\"lahore\",\"islamabad\",\"peshawar\",\"multan\",\"quetta\"]"
   ]
  },
  {
   "cell_type": "code",
   "execution_count": 6,
   "metadata": {},
   "outputs": [
    {
     "data": {
      "text/plain": [
       "['karachi', 'lahore', 'islamabad', 'peshawar', 'multan', 'quetta']"
      ]
     },
     "execution_count": 6,
     "metadata": {},
     "output_type": "execute_result"
    }
   ],
   "source": [
    "cities"
   ]
  },
  {
   "cell_type": "code",
   "execution_count": 8,
   "metadata": {},
   "outputs": [
    {
     "name": "stdout",
     "output_type": "stream",
     "text": [
      "the city under considoration is karachi\n",
      "the city under considoration is lahore\n",
      "the city under considoration is islamabad\n",
      "the city under considoration is peshawar\n",
      "the city under considoration is multan\n",
      "the city under considoration is quetta\n"
     ]
    }
   ],
   "source": [
    "for city in cities :\n",
    "    print(f\"the city under considoration is {city}\")\n",
    "#we can give a list of cities and and tell it to pick each city from cities and put in city and tell wich city\n",
    "# is under considoration"
   ]
  },
  {
   "cell_type": "code",
   "execution_count": 9,
   "metadata": {},
   "outputs": [
    {
     "name": "stdout",
     "output_type": "stream",
     "text": [
      "11\n",
      "22\n",
      "33\n",
      "44\n",
      "55\n"
     ]
    }
   ],
   "source": [
    "for num in [11,22,33,44,55]:  # we can tell it to loop on a directly given list\n",
    "    print(num)"
   ]
  },
  {
   "cell_type": "code",
   "execution_count": 12,
   "metadata": {},
   "outputs": [
    {
     "name": "stdout",
     "output_type": "stream",
     "text": [
      "yousuf\n",
      "khusro\n",
      "hunaina\n",
      "ameena\n",
      "haroon\n",
      "dadi\n"
     ]
    }
   ],
   "source": [
    "for name in[\"yousuf\",\"khusro\",\"hunaina\",\"ameena\",\"haroon\",\"dadi\"]:\n",
    "    print(name)"
   ]
  },
  {
   "cell_type": "code",
   "execution_count": 17,
   "metadata": {},
   "outputs": [
    {
     "name": "stdout",
     "output_type": "stream",
     "text": [
      "please enter nameyousuf\n",
      "please enter number10\n",
      "yousuf 0\n",
      "yousuf 1\n",
      "yousuf 2\n",
      "yousuf 3\n",
      "yousuf 4\n",
      "yousuf 5\n",
      "yousuf 6\n",
      "yousuf 7\n",
      "yousuf 8\n",
      "yousuf 9\n"
     ]
    }
   ],
   "source": [
    "a = input(\"please enter name\")\n",
    "count = int(input(\"please enter number\"))\n",
    "\n",
    "for x in range(count):\n",
    "    print(a,x)"
   ]
  },
  {
   "cell_type": "code",
   "execution_count": 19,
   "metadata": {},
   "outputs": [
    {
     "name": "stdout",
     "output_type": "stream",
     "text": [
      "yousuf\n",
      "khusro\n",
      "hunaina\n",
      "dadi\n"
     ]
    }
   ],
   "source": [
    "for name in(\"yousuf\",\"khusro\",\"hunaina\",\"dadi\"): # for loop can also loop on a tupple\n",
    "    print(name)"
   ]
  },
  {
   "cell_type": "code",
   "execution_count": 26,
   "metadata": {},
   "outputs": [
    {
     "data": {
      "text/plain": [
       "['karachi', 'lahore']"
      ]
     },
     "execution_count": 26,
     "metadata": {},
     "output_type": "execute_result"
    }
   ],
   "source": [
    "cities = [\"karachi\",\"lahore\",\"multan\",\"quetta\"]\n",
    "\n",
    "cities[:2]"
   ]
  },
  {
   "cell_type": "code",
   "execution_count": 28,
   "metadata": {},
   "outputs": [
    {
     "name": "stdout",
     "output_type": "stream",
     "text": [
      "karachi\n",
      "lahore\n"
     ]
    }
   ],
   "source": [
    "for city in cities [0:2]:\n",
    "    print(city)          # it can loop on a sliced list"
   ]
  },
  {
   "cell_type": "code",
   "execution_count": 29,
   "metadata": {},
   "outputs": [
    {
     "name": "stdout",
     "output_type": "stream",
     "text": [
      "karachi\n",
      "multan\n"
     ]
    }
   ],
   "source": [
    "for city in cities [0:3:2]:\n",
    "    print(city)   # also if you put a step"
   ]
  },
  {
   "cell_type": "code",
   "execution_count": 30,
   "metadata": {},
   "outputs": [],
   "source": [
    "abc = 1,2,3,4,5"
   ]
  },
  {
   "cell_type": "code",
   "execution_count": 31,
   "metadata": {},
   "outputs": [
    {
     "data": {
      "text/plain": [
       "(1, 2, 3, 4, 5)"
      ]
     },
     "execution_count": 31,
     "metadata": {},
     "output_type": "execute_result"
    }
   ],
   "source": [
    "abc"
   ]
  },
  {
   "cell_type": "code",
   "execution_count": 32,
   "metadata": {},
   "outputs": [
    {
     "name": "stdout",
     "output_type": "stream",
     "text": [
      "1\n",
      "2\n",
      "3\n",
      "4\n",
      "5\n",
      "6\n"
     ]
    }
   ],
   "source": [
    "for i in 1,2,3,4,5,6:\n",
    "    print(i)"
   ]
  },
  {
   "cell_type": "code",
   "execution_count": 33,
   "metadata": {},
   "outputs": [
    {
     "name": "stdout",
     "output_type": "stream",
     "text": [
      "p\n",
      "a\n",
      "k\n",
      "i\n",
      "s\n",
      "t\n",
      "a\n",
      "n\n"
     ]
    }
   ],
   "source": [
    "country = \"pakistan\"         # if you make it loop on a single character it will print letter by letter\n",
    "\n",
    "for char in country :\n",
    "    print(char)"
   ]
  },
  {
   "cell_type": "code",
   "execution_count": 34,
   "metadata": {},
   "outputs": [
    {
     "name": "stdout",
     "output_type": "stream",
     "text": [
      "p\n",
      "a\n",
      "k\n",
      "i\n",
      "s\n",
      "t\n",
      "a\n",
      "n\n"
     ]
    }
   ],
   "source": [
    "country = \"pakistan\"         # if you make it loop on a single character it will print letter by letter\n",
    "\n",
    "for char in country :\n",
    "    print(char)\n"
   ]
  },
  {
   "cell_type": "code",
   "execution_count": 40,
   "metadata": {},
   "outputs": [
    {
     "name": "stdout",
     "output_type": "stream",
     "text": [
      "12\n",
      "13\n"
     ]
    }
   ],
   "source": [
    "num = (12,13)\n",
    "\n",
    "for char in num :\n",
    "    print(char)"
   ]
  },
  {
   "cell_type": "code",
   "execution_count": 41,
   "metadata": {},
   "outputs": [
    {
     "data": {
      "text/plain": [
       "tuple"
      ]
     },
     "execution_count": 41,
     "metadata": {},
     "output_type": "execute_result"
    }
   ],
   "source": [
    "type(num)"
   ]
  },
  {
   "cell_type": "code",
   "execution_count": 43,
   "metadata": {},
   "outputs": [],
   "source": [
    "age = [38,8,31,5]"
   ]
  },
  {
   "cell_type": "code",
   "execution_count": 44,
   "metadata": {},
   "outputs": [
    {
     "data": {
      "text/plain": [
       "[38, 8, 31, 5]"
      ]
     },
     "execution_count": 44,
     "metadata": {},
     "output_type": "execute_result"
    }
   ],
   "source": [
    "age"
   ]
  },
  {
   "cell_type": "code",
   "execution_count": 50,
   "metadata": {},
   "outputs": [
    {
     "data": {
      "text/plain": [
       "8"
      ]
     },
     "execution_count": 50,
     "metadata": {},
     "output_type": "execute_result"
    }
   ],
   "source": [
    "age[1]"
   ]
  },
  {
   "cell_type": "code",
   "execution_count": 45,
   "metadata": {},
   "outputs": [],
   "source": [
    "is_string_a_list = \"Turkey\""
   ]
  },
  {
   "cell_type": "code",
   "execution_count": 46,
   "metadata": {},
   "outputs": [
    {
     "data": {
      "text/plain": [
       "'Turkey'"
      ]
     },
     "execution_count": 46,
     "metadata": {},
     "output_type": "execute_result"
    }
   ],
   "source": [
    "is_string_a_list"
   ]
  },
  {
   "cell_type": "code",
   "execution_count": 47,
   "metadata": {},
   "outputs": [
    {
     "name": "stdout",
     "output_type": "stream",
     "text": [
      "T\n",
      "u\n",
      "r\n",
      "k\n",
      "e\n",
      "y\n"
     ]
    }
   ],
   "source": [
    "for i in is_string_a_list:\n",
    "    print(i)"
   ]
  },
  {
   "cell_type": "code",
   "execution_count": 51,
   "metadata": {},
   "outputs": [
    {
     "data": {
      "text/plain": [
       "'u'"
      ]
     },
     "execution_count": 51,
     "metadata": {},
     "output_type": "execute_result"
    }
   ],
   "source": [
    "is_string_a_list[1]"
   ]
  },
  {
   "cell_type": "code",
   "execution_count": 52,
   "metadata": {},
   "outputs": [
    {
     "data": {
      "text/plain": [
       "'ur'"
      ]
     },
     "execution_count": 52,
     "metadata": {},
     "output_type": "execute_result"
    }
   ],
   "source": [
    "is_string_a_list[1:3]"
   ]
  },
  {
   "cell_type": "code",
   "execution_count": 55,
   "metadata": {},
   "outputs": [
    {
     "data": {
      "text/plain": [
       "'yekruT'"
      ]
     },
     "execution_count": 55,
     "metadata": {},
     "output_type": "execute_result"
    }
   ],
   "source": [
    "is_string_a_list[::-1]"
   ]
  },
  {
   "cell_type": "markdown",
   "metadata": {},
   "source": [
    "# for loop's break and continue"
   ]
  },
  {
   "cell_type": "code",
   "execution_count": 1,
   "metadata": {},
   "outputs": [
    {
     "data": {
      "text/plain": [
       "2.5"
      ]
     },
     "execution_count": 1,
     "metadata": {},
     "output_type": "execute_result"
    }
   ],
   "source": [
    "5/2"
   ]
  },
  {
   "cell_type": "code",
   "execution_count": 2,
   "metadata": {},
   "outputs": [
    {
     "data": {
      "text/plain": [
       "2"
      ]
     },
     "execution_count": 2,
     "metadata": {},
     "output_type": "execute_result"
    }
   ],
   "source": [
    "5//2"
   ]
  },
  {
   "cell_type": "code",
   "execution_count": 17,
   "metadata": {},
   "outputs": [
    {
     "data": {
      "text/plain": [
       "2"
      ]
     },
     "execution_count": 17,
     "metadata": {},
     "output_type": "execute_result"
    }
   ],
   "source": [
    "2%3"
   ]
  },
  {
   "cell_type": "code",
   "execution_count": 21,
   "metadata": {},
   "outputs": [
    {
     "name": "stdout",
     "output_type": "stream",
     "text": [
      "0\n",
      "1\n"
     ]
    }
   ],
   "source": [
    "for number in range(10):\n",
    "    if number%3==1:\n",
    "        break\n",
    "    print(number)\n",
    "print(1)\n",
    "#here I said print numbers until 10 but if 1 divided by three remainder comes 1 break list "
   ]
  },
  {
   "cell_type": "code",
   "execution_count": 20,
   "metadata": {},
   "outputs": [
    {
     "name": "stdout",
     "output_type": "stream",
     "text": [
      "khusro\n"
     ]
    }
   ],
   "source": [
    "for name in[\"khusro\",\"ameena\",\"hunaina\"]:\n",
    "    if name==\"ameena\" :\n",
    "        break\n",
    "    print(name)"
   ]
  },
  {
   "cell_type": "code",
   "execution_count": 24,
   "metadata": {},
   "outputs": [],
   "source": [
    "for number in range(10):\n",
    "    if number%3!=1:\n",
    "        break\n",
    "    print(number)"
   ]
  },
  {
   "cell_type": "code",
   "execution_count": 27,
   "metadata": {},
   "outputs": [
    {
     "name": "stdout",
     "output_type": "stream",
     "text": [
      "0\n",
      "1\n",
      "2\n",
      "3\n",
      "5\n",
      "6\n",
      "8\n",
      "9\n"
     ]
    }
   ],
   "source": [
    "for num in range(10):\n",
    "    if num==7 or num==4: # continue does not break the list it skips the number told\n",
    "        continue\n",
    "    print(num)"
   ]
  },
  {
   "cell_type": "markdown",
   "metadata": {},
   "source": [
    "# nested for loop"
   ]
  },
  {
   "cell_type": "code",
   "execution_count": 28,
   "metadata": {},
   "outputs": [
    {
     "name": "stdout",
     "output_type": "stream",
     "text": [
      "inner loop begins\n",
      "0 c\n",
      "0 h\n",
      "0 i\n",
      "0 n\n",
      "0 a\n",
      "inner loop begins\n",
      "1 c\n",
      "1 h\n",
      "1 i\n",
      "1 n\n",
      "1 a\n",
      "inner loop begins\n",
      "2 c\n",
      "2 h\n",
      "2 i\n",
      "2 n\n",
      "2 a\n",
      "inner loop begins\n",
      "3 c\n",
      "3 h\n",
      "3 i\n",
      "3 n\n",
      "3 a\n",
      "inner loop begins\n",
      "4 c\n",
      "4 h\n",
      "4 i\n",
      "4 n\n",
      "4 a\n"
     ]
    }
   ],
   "source": [
    "for a in range(5):\n",
    "    print(\"inner loop begins\")\n",
    "    for char in (\"china\"):\n",
    "        print(a,char)"
   ]
  },
  {
   "cell_type": "code",
   "execution_count": null,
   "metadata": {},
   "outputs": [],
   "source": []
  },
  {
   "cell_type": "code",
   "execution_count": 29,
   "metadata": {},
   "outputs": [
    {
     "ename": "KeyboardInterrupt",
     "evalue": "",
     "output_type": "error",
     "traceback": [
      "\u001b[0;31m---------------------------------------------------------------------------\u001b[0m",
      "\u001b[0;31mKeyboardInterrupt\u001b[0m                         Traceback (most recent call last)",
      "\u001b[0;32m/Applications/anaconda3/lib/python3.7/site-packages/ipykernel/kernelbase.py\u001b[0m in \u001b[0;36m_input_request\u001b[0;34m(self, prompt, ident, parent, password)\u001b[0m\n\u001b[1;32m    883\u001b[0m             \u001b[0;32mtry\u001b[0m\u001b[0;34m:\u001b[0m\u001b[0;34m\u001b[0m\u001b[0;34m\u001b[0m\u001b[0m\n\u001b[0;32m--> 884\u001b[0;31m                 \u001b[0mident\u001b[0m\u001b[0;34m,\u001b[0m \u001b[0mreply\u001b[0m \u001b[0;34m=\u001b[0m \u001b[0mself\u001b[0m\u001b[0;34m.\u001b[0m\u001b[0msession\u001b[0m\u001b[0;34m.\u001b[0m\u001b[0mrecv\u001b[0m\u001b[0;34m(\u001b[0m\u001b[0mself\u001b[0m\u001b[0;34m.\u001b[0m\u001b[0mstdin_socket\u001b[0m\u001b[0;34m,\u001b[0m \u001b[0;36m0\u001b[0m\u001b[0;34m)\u001b[0m\u001b[0;34m\u001b[0m\u001b[0;34m\u001b[0m\u001b[0m\n\u001b[0m\u001b[1;32m    885\u001b[0m             \u001b[0;32mexcept\u001b[0m \u001b[0mException\u001b[0m\u001b[0;34m:\u001b[0m\u001b[0;34m\u001b[0m\u001b[0;34m\u001b[0m\u001b[0m\n",
      "\u001b[0;32m/Applications/anaconda3/lib/python3.7/site-packages/jupyter_client/session.py\u001b[0m in \u001b[0;36mrecv\u001b[0;34m(self, socket, mode, content, copy)\u001b[0m\n\u001b[1;32m    802\u001b[0m         \u001b[0;32mtry\u001b[0m\u001b[0;34m:\u001b[0m\u001b[0;34m\u001b[0m\u001b[0;34m\u001b[0m\u001b[0m\n\u001b[0;32m--> 803\u001b[0;31m             \u001b[0mmsg_list\u001b[0m \u001b[0;34m=\u001b[0m \u001b[0msocket\u001b[0m\u001b[0;34m.\u001b[0m\u001b[0mrecv_multipart\u001b[0m\u001b[0;34m(\u001b[0m\u001b[0mmode\u001b[0m\u001b[0;34m,\u001b[0m \u001b[0mcopy\u001b[0m\u001b[0;34m=\u001b[0m\u001b[0mcopy\u001b[0m\u001b[0;34m)\u001b[0m\u001b[0;34m\u001b[0m\u001b[0;34m\u001b[0m\u001b[0m\n\u001b[0m\u001b[1;32m    804\u001b[0m         \u001b[0;32mexcept\u001b[0m \u001b[0mzmq\u001b[0m\u001b[0;34m.\u001b[0m\u001b[0mZMQError\u001b[0m \u001b[0;32mas\u001b[0m \u001b[0me\u001b[0m\u001b[0;34m:\u001b[0m\u001b[0;34m\u001b[0m\u001b[0;34m\u001b[0m\u001b[0m\n",
      "\u001b[0;32m/Applications/anaconda3/lib/python3.7/site-packages/zmq/sugar/socket.py\u001b[0m in \u001b[0;36mrecv_multipart\u001b[0;34m(self, flags, copy, track)\u001b[0m\n\u001b[1;32m    474\u001b[0m         \"\"\"\n\u001b[0;32m--> 475\u001b[0;31m         \u001b[0mparts\u001b[0m \u001b[0;34m=\u001b[0m \u001b[0;34m[\u001b[0m\u001b[0mself\u001b[0m\u001b[0;34m.\u001b[0m\u001b[0mrecv\u001b[0m\u001b[0;34m(\u001b[0m\u001b[0mflags\u001b[0m\u001b[0;34m,\u001b[0m \u001b[0mcopy\u001b[0m\u001b[0;34m=\u001b[0m\u001b[0mcopy\u001b[0m\u001b[0;34m,\u001b[0m \u001b[0mtrack\u001b[0m\u001b[0;34m=\u001b[0m\u001b[0mtrack\u001b[0m\u001b[0;34m)\u001b[0m\u001b[0;34m]\u001b[0m\u001b[0;34m\u001b[0m\u001b[0;34m\u001b[0m\u001b[0m\n\u001b[0m\u001b[1;32m    476\u001b[0m         \u001b[0;31m# have first part already, only loop while more to receive\u001b[0m\u001b[0;34m\u001b[0m\u001b[0;34m\u001b[0m\u001b[0;34m\u001b[0m\u001b[0m\n",
      "\u001b[0;32mzmq/backend/cython/socket.pyx\u001b[0m in \u001b[0;36mzmq.backend.cython.socket.Socket.recv\u001b[0;34m()\u001b[0m\n",
      "\u001b[0;32mzmq/backend/cython/socket.pyx\u001b[0m in \u001b[0;36mzmq.backend.cython.socket.Socket.recv\u001b[0;34m()\u001b[0m\n",
      "\u001b[0;32mzmq/backend/cython/socket.pyx\u001b[0m in \u001b[0;36mzmq.backend.cython.socket._recv_copy\u001b[0;34m()\u001b[0m\n",
      "\u001b[0;32m/Applications/anaconda3/lib/python3.7/site-packages/zmq/backend/cython/checkrc.pxd\u001b[0m in \u001b[0;36mzmq.backend.cython.checkrc._check_rc\u001b[0;34m()\u001b[0m\n",
      "\u001b[0;31mKeyboardInterrupt\u001b[0m: ",
      "\nDuring handling of the above exception, another exception occurred:\n",
      "\u001b[0;31mKeyboardInterrupt\u001b[0m                         Traceback (most recent call last)",
      "\u001b[0;32m<ipython-input-29-962fc2726a17>\u001b[0m in \u001b[0;36m<module>\u001b[0;34m\u001b[0m\n\u001b[0;32m----> 1\u001b[0;31m \u001b[0mtablenumber\u001b[0m \u001b[0;34m=\u001b[0m \u001b[0mint\u001b[0m\u001b[0;34m(\u001b[0m\u001b[0minput\u001b[0m\u001b[0;34m(\u001b[0m\u001b[0;34m\"enter table number\"\u001b[0m\u001b[0;34m)\u001b[0m\u001b[0;34m)\u001b[0m\u001b[0;34m\u001b[0m\u001b[0;34m\u001b[0m\u001b[0m\n\u001b[0m\u001b[1;32m      2\u001b[0m \u001b[0;34m\u001b[0m\u001b[0m\n\u001b[1;32m      3\u001b[0m \u001b[0;32mfor\u001b[0m \u001b[0ma\u001b[0m \u001b[0;32min\u001b[0m \u001b[0mrange\u001b[0m\u001b[0;34m(\u001b[0m\u001b[0;36m1\u001b[0m\u001b[0;34m,\u001b[0m\u001b[0;36m11\u001b[0m\u001b[0;34m)\u001b[0m\u001b[0;34m:\u001b[0m\u001b[0;34m\u001b[0m\u001b[0;34m\u001b[0m\u001b[0m\n\u001b[1;32m      4\u001b[0m     \u001b[0mprint\u001b[0m\u001b[0;34m(\u001b[0m\u001b[0;34mf\"{tablenumber} * {a} = {tablenumber*a}\"\u001b[0m\u001b[0;34m)\u001b[0m\u001b[0;34m\u001b[0m\u001b[0;34m\u001b[0m\u001b[0m\n",
      "\u001b[0;32m/Applications/anaconda3/lib/python3.7/site-packages/ipykernel/kernelbase.py\u001b[0m in \u001b[0;36mraw_input\u001b[0;34m(self, prompt)\u001b[0m\n\u001b[1;32m    857\u001b[0m             \u001b[0mself\u001b[0m\u001b[0;34m.\u001b[0m\u001b[0m_parent_ident\u001b[0m\u001b[0;34m,\u001b[0m\u001b[0;34m\u001b[0m\u001b[0;34m\u001b[0m\u001b[0m\n\u001b[1;32m    858\u001b[0m             \u001b[0mself\u001b[0m\u001b[0;34m.\u001b[0m\u001b[0m_parent_header\u001b[0m\u001b[0;34m,\u001b[0m\u001b[0;34m\u001b[0m\u001b[0;34m\u001b[0m\u001b[0m\n\u001b[0;32m--> 859\u001b[0;31m             \u001b[0mpassword\u001b[0m\u001b[0;34m=\u001b[0m\u001b[0;32mFalse\u001b[0m\u001b[0;34m,\u001b[0m\u001b[0;34m\u001b[0m\u001b[0;34m\u001b[0m\u001b[0m\n\u001b[0m\u001b[1;32m    860\u001b[0m         )\n\u001b[1;32m    861\u001b[0m \u001b[0;34m\u001b[0m\u001b[0m\n",
      "\u001b[0;32m/Applications/anaconda3/lib/python3.7/site-packages/ipykernel/kernelbase.py\u001b[0m in \u001b[0;36m_input_request\u001b[0;34m(self, prompt, ident, parent, password)\u001b[0m\n\u001b[1;32m    887\u001b[0m             \u001b[0;32mexcept\u001b[0m \u001b[0mKeyboardInterrupt\u001b[0m\u001b[0;34m:\u001b[0m\u001b[0;34m\u001b[0m\u001b[0;34m\u001b[0m\u001b[0m\n\u001b[1;32m    888\u001b[0m                 \u001b[0;31m# re-raise KeyboardInterrupt, to truncate traceback\u001b[0m\u001b[0;34m\u001b[0m\u001b[0;34m\u001b[0m\u001b[0;34m\u001b[0m\u001b[0m\n\u001b[0;32m--> 889\u001b[0;31m                 \u001b[0;32mraise\u001b[0m \u001b[0mKeyboardInterrupt\u001b[0m\u001b[0;34m\u001b[0m\u001b[0;34m\u001b[0m\u001b[0m\n\u001b[0m\u001b[1;32m    890\u001b[0m             \u001b[0;32melse\u001b[0m\u001b[0;34m:\u001b[0m\u001b[0;34m\u001b[0m\u001b[0;34m\u001b[0m\u001b[0m\n\u001b[1;32m    891\u001b[0m                 \u001b[0;32mbreak\u001b[0m\u001b[0;34m\u001b[0m\u001b[0;34m\u001b[0m\u001b[0m\n",
      "\u001b[0;31mKeyboardInterrupt\u001b[0m: "
     ]
    }
   ],
   "source": [
    "tablenumber = int(input(\"enter table number\"))\n",
    "\n",
    "for a in range(1,11):\n",
    "    print(f\"{tablenumber} * {a} = {tablenumber*a}\")"
   ]
  },
  {
   "cell_type": "code",
   "execution_count": 31,
   "metadata": {},
   "outputs": [
    {
     "name": "stdout",
     "output_type": "stream",
     "text": [
      "enter table number5\n",
      "5 * 1 = 5\n",
      "5 * 2 = 10\n",
      "5 * 3 = 15\n",
      "5 * 4 = 20\n",
      "5 * 5 = 25\n",
      "5 * 6 = 30\n",
      "5 * 7 = 35\n",
      "5 * 8 = 40\n",
      "5 * 9 = 45\n",
      "5 * 10 = 50\n"
     ]
    }
   ],
   "source": [
    "tablenumber = int(input(\"enter table number\"))\n",
    "\n",
    "for a in range(1,11):\n",
    "    print(f\"{tablenumber} * {a} = {tablenumber*a}\")"
   ]
  },
  {
   "cell_type": "code",
   "execution_count": 43,
   "metadata": {},
   "outputs": [
    {
     "name": "stdout",
     "output_type": "stream",
     "text": [
      "enter the range of table2\n",
      "Outer Loop 1\n",
      "Inner Loop 1\n",
      "1 * 1 = 1\n",
      "Inner Loop 2\n",
      "2 * 1 = 2\n",
      "Outer Loop 2\n",
      "Inner Loop 1\n",
      "1 * 2 = 2\n",
      "Inner Loop 2\n",
      "2 * 2 = 4\n",
      "Outer Loop 3\n",
      "Inner Loop 1\n",
      "1 * 3 = 3\n",
      "Inner Loop 2\n",
      "2 * 3 = 6\n",
      "Outer Loop 4\n",
      "Inner Loop 1\n",
      "1 * 4 = 4\n",
      "Inner Loop 2\n",
      "2 * 4 = 8\n",
      "Outer Loop 5\n",
      "Inner Loop 1\n",
      "1 * 5 = 5\n",
      "Inner Loop 2\n",
      "2 * 5 = 10\n",
      "Outer Loop 6\n",
      "Inner Loop 1\n",
      "1 * 6 = 6\n",
      "Inner Loop 2\n",
      "2 * 6 = 12\n",
      "Outer Loop 7\n",
      "Inner Loop 1\n",
      "1 * 7 = 7\n",
      "Inner Loop 2\n",
      "2 * 7 = 14\n",
      "Outer Loop 8\n",
      "Inner Loop 1\n",
      "1 * 8 = 8\n",
      "Inner Loop 2\n",
      "2 * 8 = 16\n",
      "Outer Loop 9\n",
      "Inner Loop 1\n",
      "1 * 9 = 9\n",
      "Inner Loop 2\n",
      "2 * 9 = 18\n",
      "Outer Loop 10\n",
      "Inner Loop 1\n",
      "1 * 10 = 10\n",
      "Inner Loop 2\n",
      "2 * 10 = 20\n"
     ]
    }
   ],
   "source": [
    "tables = int(input(\"enter the range of table\"))\n",
    "for a in range(1,11): #1,2,3,4,5,6,7,8,9,10,11\n",
    "    print(\"Outer Loop\", a)\n",
    "    for table in range(1,tables+1):#1\n",
    "        print(\"Inner Loop\", table)\n",
    "        print(f\"{table} * {a} = {table*a}\")"
   ]
  },
  {
   "cell_type": "code",
   "execution_count": 45,
   "metadata": {
    "scrolled": false
   },
   "outputs": [
    {
     "name": "stdout",
     "output_type": "stream",
     "text": [
      "enter table5\n",
      "2*1 = 2\n",
      "2*2 = 4\n",
      "2*3 = 6\n",
      "2*4 = 8\n",
      "2*5 = 10\n",
      "2*6 = 12\n",
      "2*7 = 14\n",
      "2*8 = 16\n",
      "2*9 = 18\n",
      "2*10 = 20\n",
      "3*1 = 3\n",
      "3*2 = 6\n",
      "3*3 = 9\n",
      "3*4 = 12\n",
      "3*5 = 15\n",
      "3*6 = 18\n",
      "3*7 = 21\n",
      "3*8 = 24\n",
      "3*9 = 27\n",
      "3*10 = 30\n",
      "4*1 = 4\n",
      "4*2 = 8\n",
      "4*3 = 12\n",
      "4*4 = 16\n",
      "4*5 = 20\n",
      "4*6 = 24\n",
      "4*7 = 28\n",
      "4*8 = 32\n",
      "4*9 = 36\n",
      "4*10 = 40\n",
      "5*1 = 5\n",
      "5*2 = 10\n",
      "5*3 = 15\n",
      "5*4 = 20\n",
      "5*5 = 25\n",
      "5*6 = 30\n",
      "5*7 = 35\n",
      "5*8 = 40\n",
      "5*9 = 45\n",
      "5*10 = 50\n"
     ]
    }
   ],
   "source": [
    "tables = int(input(\"enter table\"))\n",
    "for table in range(2,tables+1):\n",
    "    for num in range(1,11):\n",
    "        print(f\"{table}*{num} = {table*num}\")"
   ]
  },
  {
   "cell_type": "code",
   "execution_count": 52,
   "metadata": {},
   "outputs": [
    {
     "name": "stdout",
     "output_type": "stream",
     "text": [
      "khusro message i love you\n",
      "khusro message great day\n",
      "hunaina message i love you\n",
      "hunaina message great day\n",
      "ameena message i love you\n",
      "ameena message great day\n"
     ]
    }
   ],
   "source": [
    "alist = [\"khusro\",\"hunaina\",\"ameena\"]\n",
    "alist2 = [\"i love you\",\"great day\"]\n",
    "for name in alist:\n",
    "    for greeting in alist2:\n",
    "        print(f\"{name} message {greeting}\")\n",
    "\n",
    "    "
   ]
  },
  {
   "cell_type": "code",
   "execution_count": 59,
   "metadata": {},
   "outputs": [
    {
     "name": "stdout",
     "output_type": "stream",
     "text": [
      "khusro this person eats breakfast sunday on ['sunday', 'monday', 'tuesday', 'wednesday', 'thursday', 'friday', 'saturday']\n",
      "khusro this person eats breakfast monday on ['sunday', 'monday', 'tuesday', 'wednesday', 'thursday', 'friday', 'saturday']\n",
      "khusro this person eats breakfast tuesday on ['sunday', 'monday', 'tuesday', 'wednesday', 'thursday', 'friday', 'saturday']\n",
      "khusro this person eats breakfast wednesday on ['sunday', 'monday', 'tuesday', 'wednesday', 'thursday', 'friday', 'saturday']\n",
      "khusro this person eats breakfast thursday on ['sunday', 'monday', 'tuesday', 'wednesday', 'thursday', 'friday', 'saturday']\n",
      "khusro this person eats breakfast friday on ['sunday', 'monday', 'tuesday', 'wednesday', 'thursday', 'friday', 'saturday']\n",
      "khusro this person eats breakfast saturday on ['sunday', 'monday', 'tuesday', 'wednesday', 'thursday', 'friday', 'saturday']\n",
      "dadi this person eats breakfast sunday on ['sunday', 'monday', 'tuesday', 'wednesday', 'thursday', 'friday', 'saturday']\n",
      "dadi this person eats breakfast monday on ['sunday', 'monday', 'tuesday', 'wednesday', 'thursday', 'friday', 'saturday']\n",
      "dadi this person eats breakfast tuesday on ['sunday', 'monday', 'tuesday', 'wednesday', 'thursday', 'friday', 'saturday']\n",
      "dadi this person eats breakfast wednesday on ['sunday', 'monday', 'tuesday', 'wednesday', 'thursday', 'friday', 'saturday']\n",
      "dadi this person eats breakfast thursday on ['sunday', 'monday', 'tuesday', 'wednesday', 'thursday', 'friday', 'saturday']\n",
      "dadi this person eats breakfast friday on ['sunday', 'monday', 'tuesday', 'wednesday', 'thursday', 'friday', 'saturday']\n",
      "dadi this person eats breakfast saturday on ['sunday', 'monday', 'tuesday', 'wednesday', 'thursday', 'friday', 'saturday']\n",
      "hunaina this person eats breakfast sunday on ['sunday', 'monday', 'tuesday', 'wednesday', 'thursday', 'friday', 'saturday']\n",
      "hunaina this person eats breakfast monday on ['sunday', 'monday', 'tuesday', 'wednesday', 'thursday', 'friday', 'saturday']\n",
      "hunaina this person eats breakfast tuesday on ['sunday', 'monday', 'tuesday', 'wednesday', 'thursday', 'friday', 'saturday']\n",
      "hunaina this person eats breakfast wednesday on ['sunday', 'monday', 'tuesday', 'wednesday', 'thursday', 'friday', 'saturday']\n",
      "hunaina this person eats breakfast thursday on ['sunday', 'monday', 'tuesday', 'wednesday', 'thursday', 'friday', 'saturday']\n",
      "hunaina this person eats breakfast friday on ['sunday', 'monday', 'tuesday', 'wednesday', 'thursday', 'friday', 'saturday']\n",
      "hunaina this person eats breakfast saturday on ['sunday', 'monday', 'tuesday', 'wednesday', 'thursday', 'friday', 'saturday']\n"
     ]
    }
   ],
   "source": [
    "days_of_the_week = [\"sunday\",\"monday\",\"tuesday\",\"wednesday\",\"thursday\",\"friday\",\"saturday\"]\n",
    "people = [\"khusro\",\"dadi\",\"hunaina\"]\n",
    "for person in people :\n",
    "    for day in days_of_the_week :\n",
    "        print(f\"{person} this person eats breakfast {day} on {days_of_the_week}\")\n",
    "#     for day in days_of_the_week :\n",
    "#         print(f\"{person} this person eats breakfast on {day}\")"
   ]
  },
  {
   "cell_type": "code",
   "execution_count": 69,
   "metadata": {},
   "outputs": [
    {
     "name": "stdout",
     "output_type": "stream",
     "text": [
      "outter 0\n",
      "inner 0\n",
      "more innner 0\n",
      "more innner 1\n",
      "more innner 2\n",
      "more innner 3\n",
      "more innner 4\n",
      "more innner 5\n",
      "more innner 6\n",
      "more innner 7\n",
      "more innner 8\n",
      "more innner 9\n",
      "inner 1\n",
      "more innner 0\n",
      "more innner 1\n",
      "more innner 2\n",
      "more innner 3\n",
      "more innner 4\n",
      "more innner 5\n",
      "more innner 6\n",
      "more innner 7\n",
      "more innner 8\n",
      "more innner 9\n",
      "inner 2\n",
      "more innner 0\n",
      "more innner 1\n",
      "more innner 2\n",
      "more innner 3\n",
      "more innner 4\n",
      "more innner 5\n",
      "more innner 6\n",
      "more innner 7\n",
      "more innner 8\n",
      "more innner 9\n",
      "inner 3\n",
      "more innner 0\n",
      "more innner 1\n",
      "more innner 2\n",
      "more innner 3\n",
      "more innner 4\n",
      "more innner 5\n",
      "more innner 6\n",
      "more innner 7\n",
      "more innner 8\n",
      "more innner 9\n",
      "inner 4\n",
      "more innner 0\n",
      "more innner 1\n",
      "more innner 2\n",
      "more innner 3\n",
      "more innner 4\n",
      "more innner 5\n",
      "more innner 6\n",
      "more innner 7\n",
      "more innner 8\n",
      "more innner 9\n",
      "inner 5\n",
      "more innner 0\n",
      "more innner 1\n",
      "more innner 2\n",
      "more innner 3\n",
      "more innner 4\n",
      "more innner 5\n",
      "more innner 6\n",
      "more innner 7\n",
      "more innner 8\n",
      "more innner 9\n",
      "inner 6\n",
      "more innner 0\n",
      "more innner 1\n",
      "more innner 2\n",
      "more innner 3\n",
      "more innner 4\n",
      "more innner 5\n",
      "more innner 6\n",
      "more innner 7\n",
      "more innner 8\n",
      "more innner 9\n",
      "inner 7\n",
      "more innner 0\n",
      "more innner 1\n",
      "more innner 2\n",
      "more innner 3\n",
      "more innner 4\n",
      "more innner 5\n",
      "more innner 6\n",
      "more innner 7\n",
      "more innner 8\n",
      "more innner 9\n",
      "inner 8\n",
      "more innner 0\n",
      "more innner 1\n",
      "more innner 2\n",
      "more innner 3\n",
      "more innner 4\n",
      "more innner 5\n",
      "more innner 6\n",
      "more innner 7\n",
      "more innner 8\n",
      "more innner 9\n",
      "inner 9\n",
      "more innner 0\n",
      "more innner 1\n",
      "more innner 2\n",
      "more innner 3\n",
      "more innner 4\n",
      "more innner 5\n",
      "more innner 6\n",
      "more innner 7\n",
      "more innner 8\n",
      "more innner 9\n",
      "outter 1\n",
      "inner 0\n",
      "more innner 0\n",
      "more innner 1\n",
      "more innner 2\n",
      "more innner 3\n",
      "more innner 4\n",
      "more innner 5\n",
      "more innner 6\n",
      "more innner 7\n",
      "more innner 8\n",
      "more innner 9\n",
      "inner 1\n",
      "more innner 0\n",
      "more innner 1\n",
      "more innner 2\n",
      "more innner 3\n",
      "more innner 4\n",
      "more innner 5\n",
      "more innner 6\n",
      "more innner 7\n",
      "more innner 8\n",
      "more innner 9\n",
      "inner 2\n",
      "more innner 0\n",
      "more innner 1\n",
      "more innner 2\n",
      "more innner 3\n",
      "more innner 4\n",
      "more innner 5\n",
      "more innner 6\n",
      "more innner 7\n",
      "more innner 8\n",
      "more innner 9\n",
      "inner 3\n",
      "more innner 0\n",
      "more innner 1\n",
      "more innner 2\n",
      "more innner 3\n",
      "more innner 4\n",
      "more innner 5\n",
      "more innner 6\n",
      "more innner 7\n",
      "more innner 8\n",
      "more innner 9\n",
      "inner 4\n",
      "more innner 0\n",
      "more innner 1\n",
      "more innner 2\n",
      "more innner 3\n",
      "more innner 4\n",
      "more innner 5\n",
      "more innner 6\n",
      "more innner 7\n",
      "more innner 8\n",
      "more innner 9\n",
      "inner 5\n",
      "more innner 0\n",
      "more innner 1\n",
      "more innner 2\n",
      "more innner 3\n",
      "more innner 4\n",
      "more innner 5\n",
      "more innner 6\n",
      "more innner 7\n",
      "more innner 8\n",
      "more innner 9\n",
      "inner 6\n",
      "more innner 0\n",
      "more innner 1\n",
      "more innner 2\n",
      "more innner 3\n",
      "more innner 4\n",
      "more innner 5\n",
      "more innner 6\n",
      "more innner 7\n",
      "more innner 8\n",
      "more innner 9\n",
      "inner 7\n",
      "more innner 0\n",
      "more innner 1\n",
      "more innner 2\n",
      "more innner 3\n",
      "more innner 4\n",
      "more innner 5\n",
      "more innner 6\n",
      "more innner 7\n",
      "more innner 8\n",
      "more innner 9\n",
      "inner 8\n",
      "more innner 0\n",
      "more innner 1\n",
      "more innner 2\n",
      "more innner 3\n",
      "more innner 4\n",
      "more innner 5\n",
      "more innner 6\n",
      "more innner 7\n",
      "more innner 8\n",
      "more innner 9\n",
      "inner 9\n",
      "more innner 0\n",
      "more innner 1\n",
      "more innner 2\n",
      "more innner 3\n",
      "more innner 4\n",
      "more innner 5\n",
      "more innner 6\n",
      "more innner 7\n",
      "more innner 8\n",
      "more innner 9\n"
     ]
    }
   ],
   "source": [
    "for o in range(2):\n",
    "    print(\"outter\",o)\n",
    "    for i in range(10):\n",
    "        print(\"inner\",i)\n",
    "        for j in range(10):\n",
    "            print(\"more innner\",j)"
   ]
  },
  {
   "cell_type": "code",
   "execution_count": 82,
   "metadata": {},
   "outputs": [
    {
     "name": "stdout",
     "output_type": "stream",
     "text": [
      "1 x 5 = 5\n",
      "1 x 5 = 5\n",
      "2 x 5 = 10\n",
      "2 x 5 = 10\n",
      "3 x 5 = 15\n",
      "3 x 5 = 15\n",
      "4 x 5 = 20\n",
      "4 x 5 = 20\n",
      "5 x 5 = 25\n",
      "5 x 5 = 25\n",
      "6 x 5 = 30\n",
      "6 x 5 = 30\n",
      "7 x 5 = 35\n",
      "7 x 5 = 35\n",
      "8 x 5 = 40\n",
      "8 x 5 = 40\n",
      "9 x 5 = 45\n",
      "9 x 5 = 45\n",
      "10 x 5 = 50\n",
      "10 x 5 = 50\n",
      "11 x 5 = 55\n",
      "11 x 5 = 55\n",
      "12 x 5 = 60\n",
      "12 x 5 = 60\n"
     ]
    }
   ],
   "source": [
    "tableno = 5\n",
    "for i in range(1,13):\n",
    "    #print(f\"{i} x {tableno} =\",tableno*i)\n",
    "    print(i,\"x\",tableno,\"=\",tableno*i)\n",
    "    print(f\"{i} x {tableno} = {tableno*i}\")"
   ]
  },
  {
   "cell_type": "code",
   "execution_count": 74,
   "metadata": {},
   "outputs": [
    {
     "name": "stdout",
     "output_type": "stream",
     "text": [
      "12 Khusro\n"
     ]
    }
   ],
   "source": [
    "print(i,\"Khusro\")"
   ]
  },
  {
   "cell_type": "code",
   "execution_count": 78,
   "metadata": {},
   "outputs": [
    {
     "ename": "SyntaxError",
     "evalue": "Missing parentheses in call to 'print'. Did you mean print(f\"i Khusro\")? (<ipython-input-78-8aa716b75e29>, line 1)",
     "output_type": "error",
     "traceback": [
      "\u001b[0;36m  File \u001b[0;32m\"<ipython-input-78-8aa716b75e29>\"\u001b[0;36m, line \u001b[0;32m1\u001b[0m\n\u001b[0;31m    print f\"i Khusro\"\u001b[0m\n\u001b[0m                    ^\u001b[0m\n\u001b[0;31mSyntaxError\u001b[0m\u001b[0;31m:\u001b[0m Missing parentheses in call to 'print'. Did you mean print(f\"i Khusro\")?\n"
     ]
    }
   ],
   "source": [
    "print(f\"{i} Khusro\")"
   ]
  },
  {
   "cell_type": "code",
   "execution_count": 83,
   "metadata": {},
   "outputs": [
    {
     "name": "stdout",
     "output_type": "stream",
     "text": [
      "0\n",
      "0\n",
      "0\n",
      "0\n",
      "0\n",
      "0\n",
      "1\n",
      "2\n",
      "3\n",
      "4\n",
      "0\n",
      "2\n",
      "4\n",
      "6\n",
      "8\n",
      "0\n",
      "3\n",
      "6\n",
      "9\n",
      "12\n",
      "0\n",
      "4\n",
      "8\n",
      "12\n",
      "16\n"
     ]
    }
   ],
   "source": [
    "for i in range(5):       #i=0,                     i=1,                     i=2,                     i=3,                   i=4\n",
    "    for j in range(5):   #j=0, j=1, j=2, j=3, j=4, j=0, j=1, j=2, j=3, j=4, j=0, j=1, j=2, j=3, j=4, j=0, j=1, j=2, j=3, j=4,j=0, j=1, j=2, j=3, j=4\n",
    "        print(i*j)       #0*0, 0*1, 0*2, 0*3, 0*4, 1*0, 1*1, 1*2, 1*3, 1*4, 2*0, 2*1, 2*2, 2*3, 2*4, 3*0, 3*1, 3*2, 3*3, 3*4, 4*0, 4*1, 4*2, 4*3, 4*4"
   ]
  },
  {
   "cell_type": "code",
   "execution_count": 84,
   "metadata": {},
   "outputs": [
    {
     "name": "stdout",
     "output_type": "stream",
     "text": [
      "a 1\n",
      "a 2\n",
      "a 3\n",
      "a 4\n",
      "a 5\n",
      "a 6\n",
      "a 7\n",
      "a 8\n",
      "a 9\n",
      "a 10\n",
      "b 1\n",
      "b 2\n",
      "b 3\n",
      "b 4\n",
      "b 5\n",
      "b 6\n",
      "b 7\n",
      "b 8\n",
      "b 9\n",
      "b 10\n",
      "c 1\n",
      "c 2\n",
      "c 3\n",
      "c 4\n",
      "c 5\n",
      "c 6\n",
      "c 7\n",
      "c 8\n",
      "c 9\n",
      "c 10\n"
     ]
    }
   ],
   "source": [
    "outter_list = [\"a\",\"b\",\"c\"]\n",
    "inner_list = [1,2,3,4,5,6,7,8,9,10]\n",
    "for i in outter_list:\n",
    "    for j in inner_list:\n",
    "        print(i,j)"
   ]
  },
  {
   "cell_type": "markdown",
   "metadata": {},
   "source": [
    "# type casting"
   ]
  },
  {
   "cell_type": "code",
   "execution_count": 85,
   "metadata": {},
   "outputs": [
    {
     "name": "stdout",
     "output_type": "stream",
     "text": [
      "enter somethinghello\n"
     ]
    },
    {
     "data": {
      "text/plain": [
       "str"
      ]
     },
     "execution_count": 85,
     "metadata": {},
     "output_type": "execute_result"
    }
   ],
   "source": [
    "userinput = input(\"enter something\")\n",
    "type(userinput)   # any input or councole is string"
   ]
  },
  {
   "cell_type": "code",
   "execution_count": 87,
   "metadata": {},
   "outputs": [
    {
     "name": "stdout",
     "output_type": "stream",
     "text": [
      "enter something8\n"
     ]
    },
    {
     "data": {
      "text/plain": [
       "str"
      ]
     },
     "execution_count": 87,
     "metadata": {},
     "output_type": "execute_result"
    }
   ],
   "source": [
    "userinput = input(\"enter something\")\n",
    "type(userinput)"
   ]
  },
  {
   "cell_type": "code",
   "execution_count": 88,
   "metadata": {},
   "outputs": [
    {
     "name": "stdout",
     "output_type": "stream",
     "text": [
      "enter something8\n"
     ]
    },
    {
     "data": {
      "text/plain": [
       "int"
      ]
     },
     "execution_count": 88,
     "metadata": {},
     "output_type": "execute_result"
    }
   ],
   "source": [
    "userinput = int(input(\"enter something\"))\n",
    "type(userinput)      # if we do type casting the input can become from string to integer or floating point"
   ]
  },
  {
   "cell_type": "markdown",
   "metadata": {},
   "source": [
    "# changing case of string"
   ]
  },
  {
   "cell_type": "code",
   "execution_count": 89,
   "metadata": {},
   "outputs": [
    {
     "data": {
      "text/plain": [
       "str"
      ]
     },
     "execution_count": 89,
     "metadata": {},
     "output_type": "execute_result"
    }
   ],
   "source": [
    "type(\"I am a string\")  # if we check the type of this it is a string"
   ]
  },
  {
   "cell_type": "code",
   "execution_count": 90,
   "metadata": {},
   "outputs": [
    {
     "data": {
      "text/plain": [
       "str"
      ]
     },
     "execution_count": 90,
     "metadata": {},
     "output_type": "execute_result"
    }
   ],
   "source": [
    "name = \"pakistan\"\n",
    "type(name)"
   ]
  },
  {
   "cell_type": "code",
   "execution_count": 91,
   "metadata": {},
   "outputs": [
    {
     "data": {
      "text/plain": [
       "'PAKISTAN'"
      ]
     },
     "execution_count": 91,
     "metadata": {},
     "output_type": "execute_result"
    }
   ],
   "source": [
    "name.upper() # name was in lower chase charachters but I changed it into upper case characters by "
   ]
  },
  {
   "cell_type": "code",
   "execution_count": 93,
   "metadata": {},
   "outputs": [
    {
     "data": {
      "text/plain": [
       "'pakistan'"
      ]
     },
     "execution_count": 93,
     "metadata": {},
     "output_type": "execute_result"
    }
   ],
   "source": [
    "name.lower() # now I changed it back into lower case characters by "
   ]
  },
  {
   "cell_type": "code",
   "execution_count": 94,
   "metadata": {},
   "outputs": [],
   "source": [
    "name = \"PAKISTAN\""
   ]
  },
  {
   "cell_type": "code",
   "execution_count": 96,
   "metadata": {},
   "outputs": [
    {
     "data": {
      "text/plain": [
       "'Pakistan'"
      ]
     },
     "execution_count": 96,
     "metadata": {},
     "output_type": "execute_result"
    }
   ],
   "source": [
    "name.title() # now I changed the upper case charachters into title case charachters"
   ]
  },
  {
   "cell_type": "code",
   "execution_count": null,
   "metadata": {},
   "outputs": [],
   "source": []
  },
  {
   "cell_type": "code",
   "execution_count": null,
   "metadata": {},
   "outputs": [],
   "source": []
  }
 ],
 "metadata": {
  "kernelspec": {
   "display_name": "Python 3",
   "language": "python",
   "name": "python3"
  },
  "language_info": {
   "codemirror_mode": {
    "name": "ipython",
    "version": 3
   },
   "file_extension": ".py",
   "mimetype": "text/x-python",
   "name": "python",
   "nbconvert_exporter": "python",
   "pygments_lexer": "ipython3",
   "version": "3.7.6"
  }
 },
 "nbformat": 4,
 "nbformat_minor": 4
}
