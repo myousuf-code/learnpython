{
 "cells": [
  {
   "cell_type": "code",
   "execution_count": 9,
   "metadata": {},
   "outputs": [
    {
     "name": "stdout",
     "output_type": "stream",
     "text": [
      "100 is less than 200\n",
      "a is less than b\n"
     ]
    }
   ],
   "source": [
    "a=100\n",
    "b=200\n",
    "\n",
    "if a<b:\n",
    "    print(\"100 is less than 200\")\n",
    "    print(\"a is less than b\")     # these statements will be printed because the if condition returns true\n",
    "if a>b:\n",
    "    print(\"100 is greater than 200\")\n",
    "    print(\"a is greater than b\")    # these statements will not be printed because the if condition returns false"
   ]
  },
  {
   "cell_type": "code",
   "execution_count": 12,
   "metadata": {},
   "outputs": [
    {
     "name": "stdout",
     "output_type": "stream",
     "text": [
      "khusro does python programing\n",
      "yousuf does python programing\n"
     ]
    }
   ],
   "source": [
    "a=100\n",
    "b=200\n",
    "\n",
    "if a==b:\n",
    "    print(\"100 is the same amount as 200\")\n",
    "    print(\"a is the same amount as b\")\n",
    "    \n",
    "elif a>b:\n",
    "    print(\"100 is greater than 200\")\n",
    "    print(\"a is greater than b\")\n",
    "else:\n",
    "    print(\"khusro does python programing\") # because none of the if and elif statements are true so even if there is no condition\n",
    "    \n",
    "    print(\"yousuf does python programing\")# condition  in else it will print every statement in it\n"
   ]
  },
  {
   "cell_type": "code",
   "execution_count": 14,
   "metadata": {},
   "outputs": [
    {
     "name": "stdout",
     "output_type": "stream",
     "text": [
      "both the statements are true\n"
     ]
    }
   ],
   "source": [
    "a=12\n",
    "b=10\n",
    "c=8\n",
    "\n",
    "if a>b and b>c:\n",
    "    print(\"both the statements are true\")# the first and the second statements are true"
   ]
  },
  {
   "cell_type": "code",
   "execution_count": 15,
   "metadata": {},
   "outputs": [
    {
     "name": "stdout",
     "output_type": "stream",
     "text": [
      "atleast one of the statements are true\n"
     ]
    }
   ],
   "source": [
    "a=12\n",
    "b=10\n",
    "c=8\n",
    "\n",
    "if c>b or a>b :\n",
    "    print(\"atleast one of the statements are true\")\n",
    "# one of the statements are true that is why it printed statement"
   ]
  },
  {
   "cell_type": "code",
   "execution_count": 17,
   "metadata": {},
   "outputs": [
    {
     "name": "stdout",
     "output_type": "stream",
     "text": [
      "pakistan\n"
     ]
    }
   ],
   "source": [
    "a=12\n",
    "b=10\n",
    "c=13\n",
    "\n",
    "if a>b:\n",
    "    print(\"pakistan\")\n",
    "    if b>c :\n",
    "        print(\"austrailia\")"
   ]
  },
  {
   "cell_type": "code",
   "execution_count": null,
   "metadata": {},
   "outputs": [],
   "source": []
  }
 ],
 "metadata": {
  "kernelspec": {
   "display_name": "Python 3",
   "language": "python",
   "name": "python3"
  },
  "language_info": {
   "codemirror_mode": {
    "name": "ipython",
    "version": 3
   },
   "file_extension": ".py",
   "mimetype": "text/x-python",
   "name": "python",
   "nbconvert_exporter": "python",
   "pygments_lexer": "ipython3",
   "version": "3.7.6"
  }
 },
 "nbformat": 4,
 "nbformat_minor": 4
}
