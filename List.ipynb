{
 "cells": [
  {
   "cell_type": "markdown",
   "metadata": {},
   "source": [
    "# List"
   ]
  },
  {
   "cell_type": "code",
   "execution_count": 1,
   "metadata": {},
   "outputs": [],
   "source": [
    "#Lets make a friend list for yousuf"
   ]
  },
  {
   "cell_type": "code",
   "execution_count": 2,
   "metadata": {},
   "outputs": [],
   "source": [
    "friend1 = \"Manha\"\n",
    "friend2 = \"Abiha\"\n",
    "friend3 = \"Zid\""
   ]
  },
  {
   "cell_type": "code",
   "execution_count": 3,
   "metadata": {},
   "outputs": [],
   "source": [
    "#              0      1      2\n",
    "friends = [\"Manha\",\"Abiha\",\"Zid\"]"
   ]
  },
  {
   "cell_type": "code",
   "execution_count": 26,
   "metadata": {},
   "outputs": [
    {
     "name": "stdout",
     "output_type": "stream",
     "text": [
      "My Friends is  Manha\n"
     ]
    }
   ],
   "source": [
    "friend1\n",
    "print(\"My Friends is \", friend1)"
   ]
  },
  {
   "cell_type": "code",
   "execution_count": 5,
   "metadata": {},
   "outputs": [
    {
     "data": {
      "text/plain": [
       "'Abiha'"
      ]
     },
     "execution_count": 5,
     "metadata": {},
     "output_type": "execute_result"
    }
   ],
   "source": [
    "friend2"
   ]
  },
  {
   "cell_type": "code",
   "execution_count": 6,
   "metadata": {},
   "outputs": [
    {
     "data": {
      "text/plain": [
       "'Zid'"
      ]
     },
     "execution_count": 6,
     "metadata": {},
     "output_type": "execute_result"
    }
   ],
   "source": [
    "friend3"
   ]
  },
  {
   "cell_type": "code",
   "execution_count": 7,
   "metadata": {},
   "outputs": [
    {
     "data": {
      "text/plain": [
       "'Manha'"
      ]
     },
     "execution_count": 7,
     "metadata": {},
     "output_type": "execute_result"
    }
   ],
   "source": [
    "friends[0]"
   ]
  },
  {
   "cell_type": "code",
   "execution_count": 8,
   "metadata": {},
   "outputs": [
    {
     "data": {
      "text/plain": [
       "'Zid'"
      ]
     },
     "execution_count": 8,
     "metadata": {},
     "output_type": "execute_result"
    }
   ],
   "source": [
    "friends[2]"
   ]
  },
  {
   "cell_type": "code",
   "execution_count": 10,
   "metadata": {},
   "outputs": [],
   "source": [
    "friends.append(\"Khusro\")"
   ]
  },
  {
   "cell_type": "code",
   "execution_count": 11,
   "metadata": {},
   "outputs": [
    {
     "data": {
      "text/plain": [
       "4"
      ]
     },
     "execution_count": 11,
     "metadata": {},
     "output_type": "execute_result"
    }
   ],
   "source": [
    "len(friends)"
   ]
  },
  {
   "cell_type": "code",
   "execution_count": 13,
   "metadata": {},
   "outputs": [
    {
     "data": {
      "text/plain": [
       "'Khusro'"
      ]
     },
     "execution_count": 13,
     "metadata": {},
     "output_type": "execute_result"
    }
   ],
   "source": [
    "friends[3]"
   ]
  },
  {
   "cell_type": "code",
   "execution_count": 14,
   "metadata": {},
   "outputs": [
    {
     "data": {
      "text/plain": [
       "['Manha', 'Abiha', 'Zid', 'Khusro']"
      ]
     },
     "execution_count": 14,
     "metadata": {},
     "output_type": "execute_result"
    }
   ],
   "source": [
    "friends"
   ]
  },
  {
   "cell_type": "code",
   "execution_count": 15,
   "metadata": {},
   "outputs": [],
   "source": [
    "del friends[2]"
   ]
  },
  {
   "cell_type": "code",
   "execution_count": 16,
   "metadata": {},
   "outputs": [
    {
     "data": {
      "text/plain": [
       "['Manha', 'Abiha', 'Khusro']"
      ]
     },
     "execution_count": 16,
     "metadata": {},
     "output_type": "execute_result"
    }
   ],
   "source": [
    "friends"
   ]
  },
  {
   "cell_type": "code",
   "execution_count": 17,
   "metadata": {},
   "outputs": [],
   "source": [
    "friends.append(\"Zid\")"
   ]
  },
  {
   "cell_type": "code",
   "execution_count": 19,
   "metadata": {},
   "outputs": [
    {
     "data": {
      "text/plain": [
       "['Manha', 'Abiha', 'Khusro', 'Zid']"
      ]
     },
     "execution_count": 19,
     "metadata": {},
     "output_type": "execute_result"
    }
   ],
   "source": [
    "friends"
   ]
  },
  {
   "cell_type": "code",
   "execution_count": 20,
   "metadata": {},
   "outputs": [],
   "source": [
    "del friends[3]"
   ]
  },
  {
   "cell_type": "code",
   "execution_count": 21,
   "metadata": {},
   "outputs": [
    {
     "data": {
      "text/plain": [
       "['Manha', 'Abiha', 'Khusro']"
      ]
     },
     "execution_count": 21,
     "metadata": {},
     "output_type": "execute_result"
    }
   ],
   "source": [
    "friends"
   ]
  },
  {
   "cell_type": "code",
   "execution_count": 22,
   "metadata": {},
   "outputs": [],
   "source": [
    "friends.insert(0,\"Zid\")"
   ]
  },
  {
   "cell_type": "code",
   "execution_count": 23,
   "metadata": {},
   "outputs": [
    {
     "data": {
      "text/plain": [
       "['Zid', 'Manha', 'Abiha', 'Khusro']"
      ]
     },
     "execution_count": 23,
     "metadata": {},
     "output_type": "execute_result"
    }
   ],
   "source": [
    "friends"
   ]
  },
  {
   "cell_type": "code",
   "execution_count": 24,
   "metadata": {},
   "outputs": [],
   "source": [
    "friends.insert(2,\"Ashley\")"
   ]
  },
  {
   "cell_type": "code",
   "execution_count": 25,
   "metadata": {},
   "outputs": [
    {
     "data": {
      "text/plain": [
       "['Zid', 'Manha', 'Ashley', 'Abiha', 'Khusro']"
      ]
     },
     "execution_count": 25,
     "metadata": {},
     "output_type": "execute_result"
    }
   ],
   "source": [
    "friends"
   ]
  },
  {
   "cell_type": "code",
   "execution_count": 27,
   "metadata": {},
   "outputs": [
    {
     "name": "stdout",
     "output_type": "stream",
     "text": [
      "My friends is Zid\n"
     ]
    }
   ],
   "source": [
    "print(\"My friends is\", friends[0])"
   ]
  },
  {
   "cell_type": "code",
   "execution_count": 28,
   "metadata": {},
   "outputs": [
    {
     "name": "stdout",
     "output_type": "stream",
     "text": [
      "My friends is Manha\n"
     ]
    }
   ],
   "source": [
    "print(\"My friends is\", friends[1])"
   ]
  },
  {
   "cell_type": "code",
   "execution_count": 34,
   "metadata": {},
   "outputs": [
    {
     "name": "stdout",
     "output_type": "stream",
     "text": [
      "My friend is Zid\n",
      "I am still printing\n",
      "I am complete\n",
      "My friend is Manha\n",
      "I am still printing\n",
      "I am complete\n",
      "My friend is Ashley\n",
      "I am still printing\n",
      "I am complete\n",
      "My friend is Abiha\n",
      "I am still printing\n",
      "I am complete\n",
      "My friend is Khusro\n",
      "I am still printing\n",
      "I am complete\n"
     ]
    }
   ],
   "source": [
    "for a in friends:\n",
    "    print(\"My friend is\",a)\n",
    "    print(\"I am still printing\")\n",
    "    print(\"I am complete\")"
   ]
  },
  {
   "cell_type": "code",
   "execution_count": 35,
   "metadata": {},
   "outputs": [
    {
     "name": "stdout",
     "output_type": "stream",
     "text": [
      "My friend is Zid\n",
      "I am still printing\n",
      "I am complete\n",
      "My friend is Manha\n",
      "I am still printing\n",
      "I am complete\n",
      "My friend is Ashley\n",
      "I am still printing\n",
      "I am complete\n",
      "My friend is Abiha\n",
      "I am still printing\n",
      "I am complete\n",
      "My friend is Khusro\n",
      "I am still printing\n",
      "I am complete\n"
     ]
    }
   ],
   "source": [
    "print(\"My friend is\",friends[0])\n",
    "print(\"I am still printing\")\n",
    "print(\"I am complete\")\n",
    "print(\"My friend is\",friends[1])\n",
    "print(\"I am still printing\")\n",
    "print(\"I am complete\")\n",
    "print(\"My friend is\",friends[2])\n",
    "print(\"I am still printing\")\n",
    "print(\"I am complete\")\n",
    "print(\"My friend is\",friends[3])\n",
    "print(\"I am still printing\")\n",
    "print(\"I am complete\")\n",
    "print(\"My friend is\",friends[4])\n",
    "print(\"I am still printing\")\n",
    "print(\"I am complete\")"
   ]
  },
  {
   "cell_type": "markdown",
   "metadata": {},
   "source": [
    "# Yousuf List Practice"
   ]
  },
  {
   "cell_type": "code",
   "execution_count": 38,
   "metadata": {},
   "outputs": [],
   "source": [
    "alist = [\"yousuf\",\"khusro\",\"ameena\",\"haroon\",\"hunaina\"]\n",
    "      #    0         1         2       3          4"
   ]
  },
  {
   "cell_type": "code",
   "execution_count": 37,
   "metadata": {},
   "outputs": [
    {
     "data": {
      "text/plain": [
       "['yousuf', 'khusro', 'ameena', 'haroon', 'hunaina']"
      ]
     },
     "execution_count": 37,
     "metadata": {},
     "output_type": "execute_result"
    }
   ],
   "source": [
    "alist"
   ]
  },
  {
   "cell_type": "code",
   "execution_count": 42,
   "metadata": {},
   "outputs": [],
   "source": [
    "city1 = \"karachi\"\n",
    "cit2  = \"lahore\"\n",
    "city3 = \"islamabad\"\n",
    "city4 = \"quetta\"  # if we did not use lists it would be like this\n",
    "city5 = \"peshawar\"\n",
    "city6 = \"multan\"\n"
   ]
  },
  {
   "cell_type": "code",
   "execution_count": 41,
   "metadata": {},
   "outputs": [],
   "source": [
    "cities = [\"kararchi\",\"lahore\",\"islamabad\",\"quetta\",\"peshawar\",\"multan\"]\n",
    "       #     0           1         2         3          4        5    # this is a list"
   ]
  },
  {
   "cell_type": "code",
   "execution_count": 43,
   "metadata": {},
   "outputs": [
    {
     "data": {
      "text/plain": [
       "'hunaina'"
      ]
     },
     "execution_count": 43,
     "metadata": {},
     "output_type": "execute_result"
    }
   ],
   "source": [
    "alist [4] # in alsit at number 4 was hunaina so it printed  hunaina"
   ]
  },
  {
   "cell_type": "code",
   "execution_count": 45,
   "metadata": {},
   "outputs": [
    {
     "data": {
      "text/plain": [
       "'kararchi'"
      ]
     },
     "execution_count": 45,
     "metadata": {},
     "output_type": "execute_result"
    }
   ],
   "source": [
    "cities [0] # at number 0 was karachi  in cities so it printed karachi"
   ]
  },
  {
   "cell_type": "code",
   "execution_count": 46,
   "metadata": {},
   "outputs": [
    {
     "data": {
      "text/plain": [
       "5"
      ]
     },
     "execution_count": 46,
     "metadata": {},
     "output_type": "execute_result"
    }
   ],
   "source": [
    "len(alist) # this tells the lenth of the list"
   ]
  },
  {
   "cell_type": "code",
   "execution_count": 47,
   "metadata": {},
   "outputs": [
    {
     "data": {
      "text/plain": [
       "6"
      ]
     },
     "execution_count": 47,
     "metadata": {},
     "output_type": "execute_result"
    }
   ],
   "source": [
    "len(cities) # this tells the lenth of the list"
   ]
  },
  {
   "cell_type": "code",
   "execution_count": 49,
   "metadata": {},
   "outputs": [],
   "source": [
    "alist.append(\"nusrat aftab\") # append adds a value at the end of a list"
   ]
  },
  {
   "cell_type": "code",
   "execution_count": 50,
   "metadata": {},
   "outputs": [
    {
     "data": {
      "text/plain": [
       "['yousuf',\n",
       " 'khusro',\n",
       " 'ameena',\n",
       " 'haroon',\n",
       " 'hunaina',\n",
       " 'rawalpindi',\n",
       " 'nusrat aftab']"
      ]
     },
     "execution_count": 50,
     "metadata": {},
     "output_type": "execute_result"
    }
   ],
   "source": [
    "alist"
   ]
  },
  {
   "cell_type": "code",
   "execution_count": 54,
   "metadata": {},
   "outputs": [
    {
     "name": "stdout",
     "output_type": "stream",
     "text": [
      "Sorry this person is not your friend\n"
     ]
    }
   ],
   "source": [
    "friend_name = \"abiha\"\n",
    "if friend_name in alist:\n",
    "    print(\"You Found your friend\") \n",
    "  \n",
    "else:\n",
    "    print(\"Sorry this person is not your friend\") "
   ]
  },
  {
   "cell_type": "code",
   "execution_count": 57,
   "metadata": {},
   "outputs": [],
   "source": [
    "alist.insert(5,\"express\") # insert will add a value but were you want"
   ]
  },
  {
   "cell_type": "code",
   "execution_count": null,
   "metadata": {},
   "outputs": [],
   "source": []
  },
  {
   "cell_type": "code",
   "execution_count": 58,
   "metadata": {},
   "outputs": [
    {
     "data": {
      "text/plain": [
       "['yousuf',\n",
       " 'khusro',\n",
       " 'ameena',\n",
       " 'haroon',\n",
       " 'hunaina',\n",
       " 'express',\n",
       " 'rawalpindi',\n",
       " 'nusrat aftab',\n",
       " 'express']"
      ]
     },
     "execution_count": 58,
     "metadata": {},
     "output_type": "execute_result"
    }
   ],
   "source": [
    "alist # now it inserted express on 5 as i commanded"
   ]
  },
  {
   "cell_type": "code",
   "execution_count": 61,
   "metadata": {},
   "outputs": [
    {
     "data": {
      "text/plain": [
       "['kararchi',\n",
       " 'lahore',\n",
       " 'islamabad',\n",
       " 'quetta',\n",
       " 'peshawar',\n",
       " 'multan',\n",
       " 'rawalpindi',\n",
       " 'panjab']"
      ]
     },
     "execution_count": 61,
     "metadata": {},
     "output_type": "execute_result"
    }
   ],
   "source": [
    "cities.extend ([\"rawalpindi\",\"panjab\"]) # extend adds at the end what you want but it can add more than 1\n",
    "cities"
   ]
  },
  {
   "cell_type": "code",
   "execution_count": 62,
   "metadata": {},
   "outputs": [
    {
     "data": {
      "text/plain": [
       "2"
      ]
     },
     "execution_count": 62,
     "metadata": {},
     "output_type": "execute_result"
    }
   ],
   "source": [
    "alist.count (\"express\") # count counts how many times 1 value is added"
   ]
  },
  {
   "cell_type": "code",
   "execution_count": 63,
   "metadata": {},
   "outputs": [
    {
     "data": {
      "text/plain": [
       "6"
      ]
     },
     "execution_count": 63,
     "metadata": {},
     "output_type": "execute_result"
    }
   ],
   "source": [
    "cities.index (\"rawalpindi\") # index tells at wich index a value is added"
   ]
  },
  {
   "cell_type": "code",
   "execution_count": 64,
   "metadata": {},
   "outputs": [],
   "source": [
    "cities.clear() # clear clears a list"
   ]
  },
  {
   "cell_type": "code",
   "execution_count": 65,
   "metadata": {},
   "outputs": [
    {
     "data": {
      "text/plain": [
       "[]"
      ]
     },
     "execution_count": 65,
     "metadata": {},
     "output_type": "execute_result"
    }
   ],
   "source": [
    "cities"
   ]
  },
  {
   "cell_type": "code",
   "execution_count": 66,
   "metadata": {},
   "outputs": [],
   "source": [
    "cities = ['kararchi','lahore','islamabad','quetta','peshawar','rawalpindi','panjab']"
   ]
  },
  {
   "cell_type": "code",
   "execution_count": 67,
   "metadata": {},
   "outputs": [],
   "source": [
    "cities2 = cities.copy () # copy copies the list again\n",
    "# by value"
   ]
  },
  {
   "cell_type": "code",
   "execution_count": 68,
   "metadata": {},
   "outputs": [
    {
     "data": {
      "text/plain": [
       "['kararchi',\n",
       " 'lahore',\n",
       " 'islamabad',\n",
       " 'quetta',\n",
       " 'peshawar',\n",
       " 'rawalpindi',\n",
       " 'panjab']"
      ]
     },
     "execution_count": 68,
     "metadata": {},
     "output_type": "execute_result"
    }
   ],
   "source": [
    "cities2"
   ]
  },
  {
   "cell_type": "code",
   "execution_count": 69,
   "metadata": {},
   "outputs": [],
   "source": [
    "cities3 = cities # by reference"
   ]
  },
  {
   "cell_type": "code",
   "execution_count": 70,
   "metadata": {},
   "outputs": [
    {
     "data": {
      "text/plain": [
       "['kararchi',\n",
       " 'lahore',\n",
       " 'islamabad',\n",
       " 'quetta',\n",
       " 'peshawar',\n",
       " 'rawalpindi',\n",
       " 'panjab']"
      ]
     },
     "execution_count": 70,
     "metadata": {},
     "output_type": "execute_result"
    }
   ],
   "source": [
    "cities3"
   ]
  },
  {
   "cell_type": "code",
   "execution_count": 71,
   "metadata": {},
   "outputs": [],
   "source": [
    "del cities3[3]# del deletes from the list the value on the index you provided"
   ]
  },
  {
   "cell_type": "code",
   "execution_count": 77,
   "metadata": {},
   "outputs": [
    {
     "data": {
      "text/plain": [
       "['kararchi', 'lahore', 'peshawar', 'rawalpindi', 'panjab']"
      ]
     },
     "execution_count": 77,
     "metadata": {},
     "output_type": "execute_result"
    }
   ],
   "source": [
    "cities3\n"
   ]
  },
  {
   "cell_type": "code",
   "execution_count": 78,
   "metadata": {},
   "outputs": [
    {
     "name": "stdout",
     "output_type": "stream",
     "text": [
      "['kararchi', 'lahore', 'peshawar', 'rawalpindi', 'panjab', 'islamabad']\n",
      "['kararchi', 'lahore', 'peshawar', 'rawalpindi', 'panjab']\n"
     ]
    }
   ],
   "source": [
    "cities3.append(\"islamabad\")\n",
    "print(cities3)\n",
    "cities3.remove(\"islamabad\")  # remove is same as del but it asks the value not its index\n",
    "print(cities3)"
   ]
  },
  {
   "cell_type": "code",
   "execution_count": 74,
   "metadata": {},
   "outputs": [
    {
     "data": {
      "text/plain": [
       "['kararchi', 'lahore', 'peshawar', 'rawalpindi', 'panjab']"
      ]
     },
     "execution_count": 74,
     "metadata": {},
     "output_type": "execute_result"
    }
   ],
   "source": [
    "cities3"
   ]
  },
  {
   "cell_type": "code",
   "execution_count": 82,
   "metadata": {},
   "outputs": [
    {
     "name": "stdout",
     "output_type": "stream",
     "text": [
      "this city is popped from list panjab\n",
      "the remaining cities are ['kararchi', 'lahore', 'peshawar', 'rawalpindi']\n"
     ]
    }
   ],
   "source": [
    "poppedcity = cities.pop()\n",
    "print(f\"this city is popped from list {poppedcity}\") # pop removes the value at the end\n",
    "print(f\"the remaining cities are {cities}\")"
   ]
  },
  {
   "cell_type": "code",
   "execution_count": null,
   "metadata": {},
   "outputs": [],
   "source": []
  }
 ],
 "metadata": {
  "kernelspec": {
   "display_name": "Python 3",
   "language": "python",
   "name": "python3"
  },
  "language_info": {
   "codemirror_mode": {
    "name": "ipython",
    "version": 3
   },
   "file_extension": ".py",
   "mimetype": "text/x-python",
   "name": "python",
   "nbconvert_exporter": "python",
   "pygments_lexer": "ipython3",
   "version": "3.7.6"
  }
 },
 "nbformat": 4,
 "nbformat_minor": 4
}
